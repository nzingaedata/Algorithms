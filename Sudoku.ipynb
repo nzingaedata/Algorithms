{
 "cells": [
  {
   "cell_type": "markdown",
   "id": "f86ad5d7",
   "metadata": {},
   "source": [
    "## Sudoku Solver"
   ]
  },
  {
   "cell_type": "markdown",
   "id": "7454c871",
   "metadata": {},
   "source": [
    "### Backtracking\n",
    "\n",
    "Algorithmic-technique for solving problems recursively by trying to build a solution incrementally, one piece at a time, removing solutions that fail to satisfy the constraints of the problem at any point of time.\n"
   ]
  },
  {
   "cell_type": "markdown",
   "id": "836163e3",
   "metadata": {},
   "source": [
    "### Sudoku\n",
    "\n",
    "Given a partially filled 9x9 2D array, the objective is to assign numbers from 1 to 9 to the empty cells so that every row, column, and subgrid of size 3x3 contains exactly one instance of the numbers from 1 to 9.\n",
    "\n",
    "**Strategy** \n",
    "- We are trying to assign numbers one by one, whenever we find that the current number cannot lead to a solution, we remove it **(backtrack)** and try the next digit. \n",
    "- **Step 1:** Find empty cells, get coordinates\n",
    "- **Step 2:** Check row, col, subgrid of empty cell to see if number can be assigned\n",
    "- **Step 3:** Assign number to cell\n",
    "- **Step 4:** Repeat, until all numbers assigned to row\n",
    "- **Step 5:** If solution cannot be found remove number from cell and backtrack\n",
    "\n",
    "**Rules**\n",
    "- Grid Size: 9x9\n",
    "- You cannot have the same number twice in a single row or column\n",
    "- You cannot have the same number in the same 3x3 subgrid\n",
    "- 1 <= num <= 9"
   ]
  },
  {
   "cell_type": "code",
   "execution_count": 1,
   "id": "4f076ea2",
   "metadata": {},
   "outputs": [],
   "source": [
    "import numpy as np"
   ]
  },
  {
   "cell_type": "code",
   "execution_count": 2,
   "id": "bc97edc3",
   "metadata": {},
   "outputs": [],
   "source": [
    "grid = [[5,3,0,0,7,0,0,0,0],\n",
    "        [6,0,0,1,9,5,0,0,0],\n",
    "        [0,9,8,0,0,0,0,6,0],\n",
    "        [8,0,0,0,6,0,0,0,3],\n",
    "        [4,0,0,8,0,3,0,0,1],\n",
    "        [7,0,0,0,2,0,0,0,6],\n",
    "        [0,6,0,0,0,0,2,8,0],\n",
    "        [0,0,0,4,1,9,0,0,5],\n",
    "        [0,0,0,0,8,0,0,7,9]]"
   ]
  },
  {
   "cell_type": "markdown",
   "id": "5760bf3d",
   "metadata": {},
   "source": [
    "#### Print Grid\n",
    "\n",
    "Utility function that will partition 9x9 grid in to 9 3x3 subgrids. Helps with visualization."
   ]
  },
  {
   "cell_type": "code",
   "execution_count": 3,
   "id": "6b9fa54d",
   "metadata": {},
   "outputs": [],
   "source": [
    "def printGrid(grid):\n",
    "    for row in range(len(grid)): # iterate through grid length\n",
    "        if row % 3 == 0 and row != 0:\n",
    "            print(\"- - - - - - - - - - - -\") \n",
    "            \n",
    "        for col in range(len(grid[0])): # iterate through grid width\n",
    "            if col % 3 == 0 and col != 0:\n",
    "                print(\" | \", end=\"\")\n",
    "            \n",
    "            if col == 8:\n",
    "                print(grid[row][col])\n",
    "            else:\n",
    "                print(str(grid[row][col]) + \" \", end=\"\")\n",
    "                "
   ]
  },
  {
   "cell_type": "markdown",
   "id": "07e548f8",
   "metadata": {},
   "source": [
    "#### Step 1: Find Empty\n",
    "Find empty cells which are designated as 0, return coordinates of first available cell."
   ]
  },
  {
   "cell_type": "code",
   "execution_count": 4,
   "id": "d2259b69",
   "metadata": {},
   "outputs": [],
   "source": [
    "def findEmpty(grid):\n",
    "    for row in range(len(grid)):\n",
    "        for col in range(len(grid[0])):\n",
    "            if grid[row][col] ==R 0:\n",
    "                return (row, col)\n",
    "    return None"
   ]
  },
  {
   "cell_type": "markdown",
   "id": "4c5c28a1",
   "metadata": {},
   "source": [
    "#### Step 2: Is Valid\n",
    "\n",
    "Given grid, grid coordinates (row, column) and a number, checks to see if number can be assigned to empty cell, by checking row, column, and 3x3 subgrid. Returns true if number can assigned to cell or false if otherwise."
   ]
  },
  {
   "cell_type": "code",
   "execution_count": 5,
   "id": "8b4c6959",
   "metadata": {},
   "outputs": [],
   "source": [
    "def isValid(grid, num, row, col):\n",
    "    \n",
    "    # Iterate through row, check for num, ignores cell that we just inserted #. \n",
    "    for i in range(len(grid[0])): \n",
    "        if grid[row][i] == num and col != i: \n",
    "            return False\n",
    "        \n",
    "    # Iterate through column, check for num    \n",
    "    for i in range(len(grid)): \n",
    "        if grid[i][col] == num and row != i:\n",
    "            return False\n",
    "        \n",
    "    # Get subgrid starting positions\n",
    "    x0 = (col // 3) * 3 \n",
    "    y0 = (row // 3) * 3\n",
    "    \n",
    "    # iterate through subgrid\n",
    "    for i in range(3): \n",
    "        for j in range(3):\n",
    "            if (grid[y0 + i][x0 + j] == num) and (i != row) and (j != col):\n",
    "                return False\n",
    "    \n",
    "    return True"
   ]
  },
  {
   "cell_type": "markdown",
   "id": "089b0698",
   "metadata": {},
   "source": [
    "#### Solver\n",
    "Given a grid, use backtrack to solve sudoku"
   ]
  },
  {
   "cell_type": "code",
   "execution_count": 6,
   "id": "960471c8",
   "metadata": {},
   "outputs": [],
   "source": [
    "def solver(grid):\n",
    "    \"\"\"\n",
    "    If empty cell cannot be found, that means we completed the grid and found a solution,\n",
    "    since there aren't any available cells left to be filled.\n",
    "    \"\"\"\n",
    "    \n",
    "    empty = findEmpty(grid)\n",
    "    \n",
    "    if not empty:\n",
    "        return True\n",
    "    else:\n",
    "        row, col = empty\n",
    "        \n",
    "    for num in range(1,10):\n",
    "        if isValid(grid, num, row, col): # if number can be assigned to cell, assign it\n",
    "            grid[row][col] = num\n",
    "            \n",
    "            if solver(grid):\n",
    "                return True\n",
    "            \n",
    "            grid[row][col] = 0 # if num does not lead to a solution, remove it\n",
    "            \n",
    "    return False"
   ]
  },
  {
   "cell_type": "code",
   "execution_count": 7,
   "id": "87048624",
   "metadata": {},
   "outputs": [
    {
     "name": "stdout",
     "output_type": "stream",
     "text": [
      "5 3 0  | 0 7 0  | 0 0 0\n",
      "6 0 0  | 1 9 5  | 0 0 0\n",
      "0 9 8  | 0 0 0  | 0 6 0\n",
      "- - - - - - - - - - - -\n",
      "8 0 0  | 0 6 0  | 0 0 3\n",
      "4 0 0  | 8 0 3  | 0 0 1\n",
      "7 0 0  | 0 2 0  | 0 0 6\n",
      "- - - - - - - - - - - -\n",
      "0 6 0  | 0 0 0  | 2 8 0\n",
      "0 0 0  | 4 1 9  | 0 0 5\n",
      "0 0 0  | 0 8 0  | 0 7 9\n"
     ]
    }
   ],
   "source": [
    "printGrid(grid)"
   ]
  },
  {
   "cell_type": "code",
   "execution_count": 8,
   "id": "e030fec6",
   "metadata": {},
   "outputs": [
    {
     "data": {
      "text/plain": [
       "True"
      ]
     },
     "execution_count": 8,
     "metadata": {},
     "output_type": "execute_result"
    }
   ],
   "source": [
    "solver(grid)"
   ]
  },
  {
   "cell_type": "code",
   "execution_count": 9,
   "id": "633dbc0f",
   "metadata": {},
   "outputs": [
    {
     "name": "stdout",
     "output_type": "stream",
     "text": [
      "5 3 4  | 6 7 8  | 9 1 2\n",
      "6 7 2  | 1 9 5  | 3 4 8\n",
      "1 9 8  | 3 4 2  | 5 6 7\n",
      "- - - - - - - - - - - -\n",
      "8 5 9  | 7 6 1  | 4 2 3\n",
      "4 2 6  | 8 5 3  | 7 9 1\n",
      "7 1 3  | 9 2 4  | 8 5 6\n",
      "- - - - - - - - - - - -\n",
      "9 6 1  | 5 3 7  | 2 8 4\n",
      "2 8 7  | 4 1 9  | 6 3 5\n",
      "3 4 5  | 2 8 6  | 1 7 9\n"
     ]
    }
   ],
   "source": [
    "printGrid(grid)"
   ]
  },
  {
   "cell_type": "code",
   "execution_count": 10,
   "id": "47ae6bf8",
   "metadata": {},
   "outputs": [],
   "source": [
    "board = [\n",
    "    [7,8,0,4,0,0,1,2,0],\n",
    "    [6,0,0,0,7,5,0,0,9],\n",
    "    [0,0,0,6,0,1,0,7,8],\n",
    "    [0,0,7,0,4,0,2,6,0],\n",
    "    [0,0,1,0,5,0,9,3,0],\n",
    "    [9,0,4,0,6,0,0,0,5],\n",
    "    [0,7,0,3,0,0,0,1,2],\n",
    "    [1,2,0,0,0,7,4,0,0],\n",
    "    [0,4,9,2,0,6,0,0,7]\n",
    "]"
   ]
  },
  {
   "cell_type": "code",
   "execution_count": 11,
   "id": "a1ce8733",
   "metadata": {},
   "outputs": [
    {
     "name": "stdout",
     "output_type": "stream",
     "text": [
      "7 8 0  | 4 0 0  | 1 2 0\n",
      "6 0 0  | 0 7 5  | 0 0 9\n",
      "0 0 0  | 6 0 1  | 0 7 8\n",
      "- - - - - - - - - - - -\n",
      "0 0 7  | 0 4 0  | 2 6 0\n",
      "0 0 1  | 0 5 0  | 9 3 0\n",
      "9 0 4  | 0 6 0  | 0 0 5\n",
      "- - - - - - - - - - - -\n",
      "0 7 0  | 3 0 0  | 0 1 2\n",
      "1 2 0  | 0 0 7  | 4 0 0\n",
      "0 4 9  | 2 0 6  | 0 0 7\n"
     ]
    }
   ],
   "source": [
    "printGrid(board)"
   ]
  },
  {
   "cell_type": "code",
   "execution_count": 12,
   "id": "3ab645d0",
   "metadata": {},
   "outputs": [
    {
     "data": {
      "text/plain": [
       "True"
      ]
     },
     "execution_count": 12,
     "metadata": {},
     "output_type": "execute_result"
    }
   ],
   "source": [
    "solver(board)"
   ]
  },
  {
   "cell_type": "code",
   "execution_count": 13,
   "id": "f718eefa",
   "metadata": {},
   "outputs": [
    {
     "name": "stdout",
     "output_type": "stream",
     "text": [
      "7 8 5  | 4 3 9  | 1 2 6\n",
      "6 1 2  | 8 7 5  | 3 4 9\n",
      "4 9 3  | 6 2 1  | 5 7 8\n",
      "- - - - - - - - - - - -\n",
      "8 5 7  | 9 4 3  | 2 6 1\n",
      "2 6 1  | 7 5 8  | 9 3 4\n",
      "9 3 4  | 1 6 2  | 7 8 5\n",
      "- - - - - - - - - - - -\n",
      "5 7 8  | 3 9 4  | 6 1 2\n",
      "1 2 6  | 5 8 7  | 4 9 3\n",
      "3 4 9  | 2 1 6  | 8 5 7\n"
     ]
    }
   ],
   "source": [
    "printGrid(board)"
   ]
  }
 ],
 "metadata": {
  "kernelspec": {
   "display_name": "Python 3 (ipykernel)",
   "language": "python",
   "name": "python3"
  },
  "language_info": {
   "codemirror_mode": {
    "name": "ipython",
    "version": 3
   },
   "file_extension": ".py",
   "mimetype": "text/x-python",
   "name": "python",
   "nbconvert_exporter": "python",
   "pygments_lexer": "ipython3",
   "version": "3.7.6"
  }
 },
 "nbformat": 4,
 "nbformat_minor": 5
}
