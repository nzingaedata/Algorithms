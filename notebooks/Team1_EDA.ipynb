{
  "nbformat": 4,
  "nbformat_minor": 0,
  "metadata": {
    "colab": {
      "provenance": [],
      "authorship_tag": "ABX9TyOJ4SXnLu5Gyrf2coN2VNkL",
      "include_colab_link": true
    },
    "kernelspec": {
      "name": "python3",
      "display_name": "Python 3"
    },
    "language_info": {
      "name": "python"
    }
  },
  "cells": [
    {
      "cell_type": "markdown",
      "metadata": {
        "id": "view-in-github",
        "colab_type": "text"
      },
      "source": [
        "<a href=\"https://colab.research.google.com/github/nzingaedata/Algorithms/blob/master/notebooks/Team1_EDA.ipynb\" target=\"_parent\"><img src=\"https://colab.research.google.com/assets/colab-badge.svg\" alt=\"Open In Colab\"/></a>"
      ]
    },
    {
      "cell_type": "markdown",
      "source": [
        "# How Remote Work Is Transforming America's Geographical Landscape\n",
        "Team #1 | Ashek Ag Mohamed, Caprina Beal, Nzinga Eduardo Rodriguez, Keren Osabutey, Erika Smith"
      ],
      "metadata": {
        "id": "3tGoJi7ZLwV9"
      }
    },
    {
      "cell_type": "markdown",
      "source": [
        "## Business Problem\n",
        "### Overview\n",
        "\n",
        "One of the most significant impacts of the Covid-19 pandemic may be a shift in how the workplace and workforce operate in the future. According to Forbes, approximately 5% of white-collar employees in the U.S. worked primarily from home before the outbreak. This figure skyrocketed to 71% during the pandemic. If given a choice to continue working from home post-pandemic, 54% of these workers indicated they would continue to do so, according to Pew Research Center. These figures will likely vary across occupations, industries, income, and education levels. As remote work becomes more popular, white-collar workers are likely to relocate from city centers to suburban areas, accelerating and changing geographic trends.\n",
        "\n",
        "A report by the Economic Innovation Group (EIG) indicated that more than two-thirds of large urban counties saw their populations decline. Marking the first time in 50 years, counties with a population over 250,000  experienced negative growth. Although migration patterns had been in effect before Covid-19, the explosion of remote work during the pandemic, reductions in births, rising deaths, and delayed immigration accelerated the shift. EIG indicated other contributing factors, including high median home and apartment rental prices, low housing inventory, and increasing costs of consumer goods such as gas. \n",
        "\n",
        "Using data curated from Glassdoor, Zillow, the U.S. Department of Housing, the U.S. Bureau of Labor Statistics, and the U.S. Census Bureau, our analysis will answer the following:\n",
        "\n",
        "\n",
        "1.   What are the top 10 cities in the U.S. with the most remote work opportunities?\n",
        "2.   What are the top 10 states with the most remote work opportunities?\n",
        "3.   Which jobs are likely to experience more significant increases in remote work?\n",
        "4.   Which workers are most likely to have the option to work from home?\n",
        "5.   How have city growth rates changed, and how is the population shifting?\n",
        "6.   How have the average annual expenditures and population characteristics changed?\n",
        "7.   How have the average home, and rent prices changed over time?\n",
        "8.   What are the real estate implications of an increase in remote work?\n",
        "9.   Is there a correlation between inflation, home prices, and rent prices?\n",
        "10.   Has the inflation rate affected housing inventory? \n",
        "11. How has the cost of consumer goods changed?\n",
        "12. What changes have occurred over time for consumer spending? \n"
      ],
      "metadata": {
        "id": "C55FS21bMT8J"
      }
    },
    {
      "cell_type": "code",
      "source": [
        "import re\n",
        "import numpy as np\n",
        "import pandas as pd\n",
        "import seaborn as sns\n",
        "import matplotlib.pyplot as plt\n",
        "import plotly.express as px"
      ],
      "metadata": {
        "id": "lgmV6vIIL7SP"
      },
      "execution_count": 1,
      "outputs": []
    },
    {
      "cell_type": "code",
      "source": [
        "%matplotlib inline"
      ],
      "metadata": {
        "id": "4SX6-kr9ZxDi"
      },
      "execution_count": 2,
      "outputs": []
    },
    {
      "cell_type": "markdown",
      "source": [
        "### What are top 10 cities in U.S. the most remote work opportunities? "
      ],
      "metadata": {
        "id": "CtrWmNbcWPgE"
      }
    },
    {
      "cell_type": "code",
      "source": [],
      "metadata": {
        "id": "NWTvAqGfZ-5B"
      },
      "execution_count": null,
      "outputs": []
    },
    {
      "cell_type": "markdown",
      "source": [
        "### What are top 10 states with the most remote work opportunities?"
      ],
      "metadata": {
        "id": "1MS3pIWEWcsn"
      }
    },
    {
      "cell_type": "code",
      "source": [],
      "metadata": {
        "id": "WN_D5KKtaA11"
      },
      "execution_count": null,
      "outputs": []
    },
    {
      "cell_type": "markdown",
      "source": [
        "### Which jobs are likely to experience more significant increases in remote work?"
      ],
      "metadata": {
        "id": "KhW2fdNnWcir"
      }
    },
    {
      "cell_type": "code",
      "source": [],
      "metadata": {
        "id": "zH_fgs-xaION"
      },
      "execution_count": null,
      "outputs": []
    },
    {
      "cell_type": "markdown",
      "source": [
        "### Which workers are most likely to have the option to work from home?"
      ],
      "metadata": {
        "id": "B6Pw0drfWcVF"
      }
    },
    {
      "cell_type": "code",
      "source": [],
      "metadata": {
        "id": "Xmdcn9d5aJWE"
      },
      "execution_count": null,
      "outputs": []
    },
    {
      "cell_type": "markdown",
      "source": [
        "### How have city growth rates changed and how is the population shifting?"
      ],
      "metadata": {
        "id": "zheSN2QlWb2x"
      }
    },
    {
      "cell_type": "code",
      "source": [],
      "metadata": {
        "id": "mLSeECZEaLPx"
      },
      "execution_count": null,
      "outputs": []
    },
    {
      "cell_type": "markdown",
      "source": [
        "### How have the average annual expenditures and population characteristics changed?"
      ],
      "metadata": {
        "id": "9V_UwA8aWbfG"
      }
    },
    {
      "cell_type": "code",
      "source": [],
      "metadata": {
        "id": "IfHwgpNZaN69"
      },
      "execution_count": null,
      "outputs": []
    },
    {
      "cell_type": "markdown",
      "source": [
        "### How have the average home and rent prices changed over time?"
      ],
      "metadata": {
        "id": "1pPWu-VyXdRF"
      }
    },
    {
      "cell_type": "code",
      "source": [],
      "metadata": {
        "id": "TrM3HtZeaPzd"
      },
      "execution_count": null,
      "outputs": []
    },
    {
      "cell_type": "markdown",
      "source": [
        "### What are the real estate implications of an increase in remote work?"
      ],
      "metadata": {
        "id": "uIo7W3wfXdIi"
      }
    },
    {
      "cell_type": "code",
      "source": [],
      "metadata": {
        "id": "RGqrrPgQaS3K"
      },
      "execution_count": null,
      "outputs": []
    },
    {
      "cell_type": "markdown",
      "source": [
        "### Is there a correlation between inflation, home prices and rent prices?"
      ],
      "metadata": {
        "id": "Ypk_9KvLXc-0"
      }
    },
    {
      "cell_type": "code",
      "source": [],
      "metadata": {
        "id": "8EMwetumaT0Y"
      },
      "execution_count": null,
      "outputs": []
    },
    {
      "cell_type": "markdown",
      "source": [
        "### Has the inflation rate affected housing inventory?"
      ],
      "metadata": {
        "id": "AAnivJaiXc1e"
      }
    },
    {
      "cell_type": "code",
      "source": [],
      "metadata": {
        "id": "4-4102sRaU0F"
      },
      "execution_count": null,
      "outputs": []
    },
    {
      "cell_type": "markdown",
      "source": [
        "### How has the cost of consumer goods changed?"
      ],
      "metadata": {
        "id": "AZj9vKmNXcr_"
      }
    },
    {
      "cell_type": "code",
      "source": [],
      "metadata": {
        "id": "pAZ67TFdaVkN"
      },
      "execution_count": null,
      "outputs": []
    },
    {
      "cell_type": "markdown",
      "source": [
        "### What changes have occurred over time for consumer spending?"
      ],
      "metadata": {
        "id": "mk2e1aUpXceC"
      }
    },
    {
      "cell_type": "code",
      "source": [],
      "metadata": {
        "id": "Ji-FY_UrWAjq"
      },
      "execution_count": null,
      "outputs": []
    }
  ]
}